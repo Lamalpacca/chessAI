{
 "cells": [
  {
   "cell_type": "code",
   "execution_count": 1,
   "id": "93070953-2e59-461e-a9c8-f8d09e0a3268",
   "metadata": {},
   "outputs": [],
   "source": [
    "import tkinter as tk\n",
    "from TwoPlayerGame import TwoPlayerGame\n",
    "from OnePlayerGame import OnePlayerGame"
   ]
  },
  {
   "cell_type": "code",
   "execution_count": 2,
   "id": "064ec0c7-7083-4972-8baf-54fa89f4de17",
   "metadata": {},
   "outputs": [
    {
     "name": "stdout",
     "output_type": "stream",
     "text": [
      "<bound method Board.fen of Board('rnbqkbnr/pppppppp/8/8/4P3/8/PPPP1PPP/RNBQKBNR b KQkq - 0 1')>\n",
      "<bound method Board.fen of Board('rnbqkbnr/ppp1pppp/8/3p4/4P3/8/PPPP1PPP/RNBQKBNR w KQkq - 0 2')>\n",
      "<bound method Board.fen of Board('rnbqkbnr/ppp1pppp/8/3p4/3PP3/8/PPP2PPP/RNBQKBNR b KQkq - 0 2')>\n",
      "<bound method Board.fen of Board('rnbqkbnr/ppp2ppp/8/3pp3/3PP3/8/PPP2PPP/RNBQKBNR w KQkq - 0 3')>\n",
      "<bound method Board.fen of Board('rnbqkbnr/ppp2ppp/8/3Pp3/3P4/8/PPP2PPP/RNBQKBNR b KQkq - 0 3')>\n",
      "<bound method Board.fen of Board('rnb1kbnr/ppp2ppp/8/3qp3/3P4/8/PPP2PPP/RNBQKBNR w KQkq - 0 4')>\n",
      "<bound method Board.fen of Board('rnb1kbnr/ppp2ppp/8/3qp3/3P4/5N2/PPP2PPP/RNBQKB1R b KQkq - 1 4')>\n",
      "<bound method Board.fen of Board('rnb1kbnr/ppp2ppp/8/4p3/3P4/5q2/PPP2PPP/RNBQKB1R w KQkq - 0 5')>\n",
      "<bound method Board.fen of Board('rnb1kbnr/ppp2ppp/8/4p3/3P4/2N2q2/PPP2PPP/R1BQKB1R b KQkq - 1 5')>\n",
      "<bound method Board.fen of Board('rn2kbnr/ppp2ppp/8/4p3/3P4/2N2q1b/PPP2PPP/R1BQKB1R w KQkq - 2 6')>\n",
      "<bound method Board.fen of Board('rn2kbnr/ppp2ppp/8/4p3/3P4/2N2q1P/PPP2P1P/R1BQKB1R b KQkq - 0 6')>\n",
      "<bound method Board.fen of Board('rn2kbnr/ppp2ppp/8/8/3p4/2N2q1P/PPP2P1P/R1BQKB1R w KQkq - 0 7')>\n",
      "<bound method Board.fen of Board('rn2kbnr/ppp2ppp/8/8/3Q4/2N2q1P/PPP2P1P/R1B1KB1R b KQkq - 0 7')>\n",
      "<bound method Board.fen of Board('rn2k1nr/ppp2ppp/8/2b5/3Q4/2N2q1P/PPP2P1P/R1B1KB1R w KQkq - 1 8')>\n",
      "<bound method Board.fen of Board('rn2k1nr/ppp2ppp/8/2Q5/8/2N2q1P/PPP2P1P/R1B1KB1R b KQkq - 0 8')>\n",
      "<bound method Board.fen of Board('r3k1nr/ppp2ppp/2n5/2Q5/8/2N2q1P/PPP2P1P/R1B1KB1R w KQkq - 1 9')>\n",
      "<bound method Board.fen of Board('r3k1nr/ppp2ppp/2Q5/8/8/2N2q1P/PPP2P1P/R1B1KB1R b KQkq - 0 9')>\n",
      "<bound method Board.fen of Board('r4knr/ppp2ppp/2Q5/8/8/2N2q1P/PPP2P1P/R1B1KB1R w KQ - 1 10')>\n",
      "<bound method Board.fen of Board('r4knr/ppp2ppp/2Q5/8/8/1PN2q1P/P1P2P1P/R1B1KB1R b KQ - 0 10')>\n",
      "<bound method Board.fen of Board('r4knr/ppp2ppp/2Q5/8/8/1Pq4P/P1P2P1P/R1B1KB1R w KQ - 0 11')>\n",
      "<bound method Board.fen of Board('r4knr/ppp2ppp/2Q5/8/8/1Pq4P/P1P2P1P/R1BK1B1R b - - 1 11')>\n",
      "<bound method Board.fen of Board('r4knr/ppp2ppp/2q5/8/8/1P5P/P1P2P1P/R1BK1B1R w - - 0 12')>\n",
      "<bound method Board.fen of Board('r4knr/ppp2ppp/2q5/8/2B5/1P5P/P1P2P1P/R1BK3R b - - 1 12')>\n",
      "<bound method Board.fen of Board('r4knr/ppp2ppp/8/8/2q5/1P5P/P1P2P1P/R1BK3R w - - 0 13')>\n",
      "<bound method Board.fen of Board('r4knr/ppp2ppp/8/8/2P5/7P/P1P2P1P/R1BK3R b - - 0 13')>\n",
      "<bound method Board.fen of Board('r4knr/p1p2ppp/8/1p6/2P5/7P/P1P2P1P/R1BK3R w - - 0 14')>\n",
      "<bound method Board.fen of Board('r4knr/p1p2ppp/8/1P6/8/7P/P1P2P1P/R1BK3R b - - 0 14')>\n",
      "<bound method Board.fen of Board('1r3knr/p1p2ppp/8/1P6/8/7P/P1P2P1P/R1BK3R w - - 1 15')>\n",
      "<bound method Board.fen of Board('1r3knr/p1p2ppp/8/1P6/8/7P/P1P2P1P/R1BK2R1 b - - 2 15')>\n",
      "<bound method Board.fen of Board('5knr/p1p2ppp/8/1r6/8/7P/P1P2P1P/R1BK2R1 w - - 0 16')>\n"
     ]
    }
   ],
   "source": [
    "root = tk.Tk()\n",
    "x = TwoPlayerGame(root, None)\n",
    "root.mainloop()\n",
    "x.outcome"
   ]
  },
  {
   "cell_type": "code",
   "execution_count": 2,
   "id": "f3a5fafd",
   "metadata": {},
   "outputs": [
    {
     "name": "stdout",
     "output_type": "stream",
     "text": [
      "Nh6\n",
      "Rg8\n",
      "Rh8\n"
     ]
    }
   ],
   "source": [
    "root = tk.Tk()\n",
    "x = OnePlayerGame(root, None, bot_choice=\"QuentinBot\", player_white=True)\n",
    "root.mainloop()\n",
    "x.outcome"
   ]
  },
  {
   "cell_type": "code",
   "execution_count": null,
   "id": "88e9ecc3",
   "metadata": {},
   "outputs": [],
   "source": [
    "root = tk.Tk()\n",
    "x = ZeroPlayerGame(root, None, white_bot=\"QuentinBot\", black_bot=\"SamBot\")\n",
    "root.mainloop()\n",
    "x.outcome"
   ]
  },
  {
   "cell_type": "code",
   "execution_count": 4,
   "id": "a7ddd31f",
   "metadata": {},
   "outputs": [],
   "source": [
    "# DEBUG CELL\n",
    "# If there is an error before starting a game then you need to run this cell before doing another game\n",
    "\n",
    "import chess\n",
    "import chess.svg\n",
    "from PIL import Image, ImageTk\n",
    "from wand.image import Image as WandImage\n",
    "\n",
    "root = tk.Tk()\n",
    "board = chess.Board()\n",
    "\n",
    "board.push_san(\"e4\")\n",
    "\n",
    "for widget in root.winfo_children():\n",
    "    widget.destroy()\n",
    "\n",
    "svg_data = chess.svg.board(board).encode('utf-8')\n",
    "with WandImage(blob=svg_data, format='svg') as image:\n",
    "    png_image = image.make_blob('png')\n",
    "\n",
    "image_path = \"board_image.png\"  # Saves in the same directory as the script\n",
    "# Open a file in write-binary ('wb') mode\n",
    "with open(image_path, 'wb') as f:\n",
    "    f.write(png_image)\n",
    "\n",
    "im = Image.open(\"board_image.png\").resize((800, 800))\n",
    "image = ImageTk.PhotoImage(im)\n",
    "image_label = tk.Label(image=image)\n",
    "image_label.pack()\n",
    "\n",
    "root.mainloop()"
   ]
  }
 ],
 "metadata": {
  "kernelspec": {
   "display_name": "chessenv",
   "language": "python",
   "name": "chessenv"
  },
  "language_info": {
   "codemirror_mode": {
    "name": "ipython",
    "version": 3
   },
   "file_extension": ".py",
   "mimetype": "text/x-python",
   "name": "python",
   "nbconvert_exporter": "python",
   "pygments_lexer": "ipython3",
   "version": "3.9.16"
  }
 },
 "nbformat": 4,
 "nbformat_minor": 5
}
